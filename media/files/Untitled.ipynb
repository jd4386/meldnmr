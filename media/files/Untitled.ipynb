{
 "cells": [
  {
   "cell_type": "code",
   "execution_count": 1,
   "id": "fe5d32c1",
   "metadata": {},
   "outputs": [],
   "source": [
    "import pywhatkit\n",
    "import pandas as pd\n",
    "from tqdm import tqdm\n",
    "from time import sleep\n",
    "\n",
    "sleep(5)\n",
    "\n",
    "# for i in tqdm(range(5), desc='Messages sent'):\n",
    "#     pywhatkit.sendwhatmsg_instantly('+919393101872', 'test', 5, True)\n",
    "# pywhatkit.sendwhatmsg_instantly('+919393101872', message2, 5, True)"
   ]
  },
  {
   "cell_type": "code",
   "execution_count": null,
   "id": "9a803c6c",
   "metadata": {},
   "outputs": [],
   "source": []
  },
  {
   "cell_type": "code",
   "execution_count": null,
   "id": "c9dc6eb5",
   "metadata": {},
   "outputs": [],
   "source": []
  },
  {
   "cell_type": "code",
   "execution_count": 2,
   "id": "c074aad7",
   "metadata": {},
   "outputs": [],
   "source": [
    "message1 = 'We are happy to inform you that the Birth Centenary Celebrations of our Pujya Gurudev Yogacharya Sri Raparti Ramarao garu are being organized at Visakhapatnam, from where Guruji started yoga training his disciples for the first time, on 4th June 2023 from 9AM to 1PM.\\n\\nCourtallam Sankaracharya, Sri Lalita Peethadipati, Jagadguru Sri Siddheswarananda Bharati  Mahaswami varu has kindly agreed to be the Chief Guest of the function.\\n\\nThe venue is YCT Visakhapatnam branch, Madhurawada Centre near Vijayam School.\\n\\nYou are one of the ardent disciples of our Gurudev and your presence on this occasion will greatly benefit the sadhakas. We warmly welcome you to participate in the celebrations.'\n",
    "\n",
    "message2 = '*GURUJI\\'S BIRTH CENTENARY CELEBRATIONS Visakhapatnam will go live on our YouTube Channel on 4th June (Sunday) 9:30 AM IST onwards*\\n\\nhttps://www.youtube.com/c/YogaConsciousnessTrust\\n\\nIn Service of Yoga,\\nSecretary,\\nYCT, Visakhapatnam Branch\\n\\nPlease subscribe to our channel now, to get notifications.\\n\\nDirect Link :\\n\\nhttps://www.youtube.com/live/TqcUVQZ3iHw?feature=share'"
   ]
  },
  {
   "cell_type": "code",
   "execution_count": 3,
   "id": "55e92ee5",
   "metadata": {},
   "outputs": [],
   "source": [
    "numbers = list(map(str, pd.read_excel('numbers.xlsx', header=None)[0].tolist()))"
   ]
  },
  {
   "cell_type": "code",
   "execution_count": 4,
   "id": "18a136de",
   "metadata": {},
   "outputs": [],
   "source": [
    "numbers = [number.replace(' ', '') for number in numbers]"
   ]
  },
  {
   "cell_type": "code",
   "execution_count": 5,
   "id": "42d443f0",
   "metadata": {},
   "outputs": [],
   "source": [
    "numbers = [number.replace('+', '') for number in numbers]"
   ]
  },
  {
   "cell_type": "code",
   "execution_count": 6,
   "id": "cd92ba9b",
   "metadata": {},
   "outputs": [],
   "source": [
    "numbers = [number for number in numbers if len(number) > 9]"
   ]
  },
  {
   "cell_type": "code",
   "execution_count": 7,
   "id": "4c0fa8be",
   "metadata": {},
   "outputs": [],
   "source": [
    "numbers = ['91' + number if len(number) == 10 else number for number in numbers]"
   ]
  },
  {
   "cell_type": "code",
   "execution_count": 8,
   "id": "f4a9ad76",
   "metadata": {},
   "outputs": [],
   "source": [
    "numbers = ['+' + number for number in numbers]"
   ]
  },
  {
   "cell_type": "code",
   "execution_count": 9,
   "id": "90a07e0b",
   "metadata": {},
   "outputs": [],
   "source": [
    "numbers = list(set(numbers))"
   ]
  },
  {
   "cell_type": "code",
   "execution_count": 10,
   "id": "322bb18d",
   "metadata": {},
   "outputs": [
    {
     "data": {
      "text/plain": [
       "1275"
      ]
     },
     "execution_count": 10,
     "metadata": {},
     "output_type": "execute_result"
    }
   ],
   "source": [
    "len(numbers)"
   ]
  },
  {
   "cell_type": "code",
   "execution_count": 11,
   "id": "77bc09f0",
   "metadata": {},
   "outputs": [
    {
     "data": {
      "text/plain": [
       "{12, 13}"
      ]
     },
     "execution_count": 11,
     "metadata": {},
     "output_type": "execute_result"
    }
   ],
   "source": [
    "set(map(len, numbers))"
   ]
  },
  {
   "cell_type": "code",
   "execution_count": 12,
   "id": "59ea6b4c",
   "metadata": {},
   "outputs": [
    {
     "data": {
      "text/plain": [
       "['+17733198470',\n",
       " '+14082189442',\n",
       " '+15127443153',\n",
       " '+89112726123',\n",
       " '+16108446784',\n",
       " '+92488515831',\n",
       " '+71609414123']"
      ]
     },
     "execution_count": 12,
     "metadata": {},
     "output_type": "execute_result"
    }
   ],
   "source": [
    "[number for number in numbers if len(number) == 12]"
   ]
  },
  {
   "cell_type": "code",
   "execution_count": 13,
   "id": "fdc685c3",
   "metadata": {},
   "outputs": [
    {
     "name": "stderr",
     "output_type": "stream",
     "text": [
      "Messages sent: 100%|█████████████████████████████████████████████████| 1275/1275 [6:07:37<00:00, 17.30s/it]\n"
     ]
    }
   ],
   "source": [
    "for i in tqdm(range(len(numbers)), desc='Messages sent'):\n",
    "    pywhatkit.sendwhatmsg_instantly(numbers[i], message1, 5, True)\n",
    "    pywhatkit.sendwhatmsg_instantly(numbers[i], message2, 5, True)\n",
    "\n",
    "# pywhatkit.sendwhatmsg_instantly('+919393101872', message1, 5, True)\n",
    "# pywhatkit.sendwhatmsg_instantly('+919393101872', message2, 5, True)"
   ]
  }
 ],
 "metadata": {
  "kernelspec": {
   "display_name": "Python 3 (ipykernel)",
   "language": "python",
   "name": "python3"
  },
  "language_info": {
   "codemirror_mode": {
    "name": "ipython",
    "version": 3
   },
   "file_extension": ".py",
   "mimetype": "text/x-python",
   "name": "python",
   "nbconvert_exporter": "python",
   "pygments_lexer": "ipython3",
   "version": "3.11.1"
  }
 },
 "nbformat": 4,
 "nbformat_minor": 5
}
